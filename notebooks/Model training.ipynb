{
 "cells": [
  {
   "cell_type": "code",
   "execution_count": 213,
   "metadata": {},
   "outputs": [],
   "source": [
    "# Basic Import\n",
    "import numpy as np\n",
    "import pandas as pd\n",
    "import matplotlib.pyplot as plt \n",
    "import seaborn as sns\n",
    "# Modelling\n",
    "from sklearn.metrics import accuracy_score, brier_score_loss\n",
    "from sklearn.tree import DecisionTreeClassifier\n",
    "from sklearn.model_selection import cross_validate, RandomizedSearchCV, GridSearchCV\n",
    "# Statistics\n",
    "from statistics import mean"
   ]
  },
  {
   "cell_type": "code",
   "execution_count": 41,
   "metadata": {},
   "outputs": [],
   "source": [
    "df = pd.read_csv('C:/Users/lismo/OneDrive/MLprojects/Breast_Cancer_Detection/data/data_raw.csv')\n",
    "\n",
    "corr_features = ['area_mean', 'radius_mean', 'area_worst', 'radius_worst', 'area_se', 'radius_se', 'texture_mean', 'perimeter_mean', 'texture_mean', 'area_se', 'radius_se', 'concave points_worst', 'concavity_mean']\n",
    "\n",
    "X = df.drop(columns=['diagnosis', 'id', 'Unnamed: 32'],axis=1)\n",
    "X2 = X.drop(columns=corr_features,axis=1)\n",
    "y = df['diagnosis']"
   ]
  },
  {
   "cell_type": "code",
   "execution_count": 45,
   "metadata": {},
   "outputs": [],
   "source": [
    "num_features = X.select_dtypes(exclude=\"object\").columns\n",
    "# cat_features = X.select_dtypes(include=\"object\").columns\n",
    "\n",
    "from sklearn.preprocessing import OneHotEncoder, StandardScaler\n",
    "from sklearn.compose import ColumnTransformer\n",
    "\n",
    "numeric_transformer = StandardScaler()\n",
    "#oh_transformer = OneHotEncoder()\n",
    "\n",
    "preprocessor = ColumnTransformer(\n",
    "    [\n",
    "        #(\"OneHotEncoder\", oh_transformer, cat_features),\n",
    "        (\"StandardScaler\", numeric_transformer, num_features),        \n",
    "    ]\n",
    ")\n"
   ]
  },
  {
   "cell_type": "code",
   "execution_count": 47,
   "metadata": {},
   "outputs": [],
   "source": [
    "num_features_2 = X2.select_dtypes(exclude=\"object\").columns\n",
    "# cat_features = X.select_dtypes(include=\"object\").columns\n",
    "\n",
    "preprocessor_2 = ColumnTransformer(\n",
    "    [\n",
    "        #(\"OneHotEncoder\", oh_transformer, cat_features),\n",
    "        (\"StandardScaler\", numeric_transformer, num_features_2),        \n",
    "    ]\n",
    ")"
   ]
  },
  {
   "cell_type": "code",
   "execution_count": 48,
   "metadata": {},
   "outputs": [],
   "source": [
    "X = preprocessor.fit_transform(X)\n",
    "X2 = preprocessor_2.fit_transform(X2)"
   ]
  },
  {
   "cell_type": "code",
   "execution_count": 222,
   "metadata": {},
   "outputs": [
    {
     "data": {
      "text/plain": [
       "((455, 30), (114, 30))"
      ]
     },
     "execution_count": 222,
     "metadata": {},
     "output_type": "execute_result"
    }
   ],
   "source": [
    "from sklearn.model_selection import train_test_split\n",
    "X_train, X_test, y_train, y_test = train_test_split(X,y,test_size=0.2,random_state=42)\n",
    "X_train.shape, X_test.shape"
   ]
  },
  {
   "cell_type": "code",
   "execution_count": 246,
   "metadata": {},
   "outputs": [],
   "source": [
    "rs_space={'max_depth':list(np.arange(1, 50, step=1)) + [None],\n",
    "              'criterion':['gini','entropy'],\n",
    "              'min_samples_leaf': np.arange(2, 15, step=1),\n",
    "              'min_samples_split':np.arange(2, 15, step=1)\n",
    "         }\n",
    "\n",
    "rf = DecisionTreeClassifier()\n",
    "rf_random = GridSearchCV(rf, rs_space, scoring='accuracy', return_train_score=True, n_jobs=-1, cv=10)\n",
    "model_random = rf_random.fit(X_train, y_train)"
   ]
  },
  {
   "cell_type": "code",
   "execution_count": 247,
   "metadata": {},
   "outputs": [],
   "source": [
    "model_df =pd.concat([pd.DataFrame(model_random.cv_results_[\"params\"]),\n",
    "                     pd.DataFrame(model_random.cv_results_[\"mean_train_score\"], columns=[\"Train Accuracy\"]),\n",
    "                     pd.DataFrame(model_random.cv_results_[\"mean_test_score\"], columns=[\"Val Accuracy\"])],\n",
    "                     axis=1)"
   ]
  },
  {
   "cell_type": "code",
   "execution_count": 248,
   "metadata": {},
   "outputs": [
    {
     "data": {
      "text/html": [
       "<div>\n",
       "<style scoped>\n",
       "    .dataframe tbody tr th:only-of-type {\n",
       "        vertical-align: middle;\n",
       "    }\n",
       "\n",
       "    .dataframe tbody tr th {\n",
       "        vertical-align: top;\n",
       "    }\n",
       "\n",
       "    .dataframe thead th {\n",
       "        text-align: right;\n",
       "    }\n",
       "</style>\n",
       "<table border=\"1\" class=\"dataframe\">\n",
       "  <thead>\n",
       "    <tr style=\"text-align: right;\">\n",
       "      <th></th>\n",
       "      <th>criterion</th>\n",
       "      <th>max_depth</th>\n",
       "      <th>min_samples_leaf</th>\n",
       "      <th>min_samples_split</th>\n",
       "      <th>Train Accuracy</th>\n",
       "      <th>Val Accuracy</th>\n",
       "    </tr>\n",
       "  </thead>\n",
       "  <tbody>\n",
       "    <tr>\n",
       "      <th>0</th>\n",
       "      <td>gini</td>\n",
       "      <td>1.0</td>\n",
       "      <td>2</td>\n",
       "      <td>2</td>\n",
       "      <td>0.922590</td>\n",
       "      <td>0.883575</td>\n",
       "    </tr>\n",
       "    <tr>\n",
       "      <th>1</th>\n",
       "      <td>gini</td>\n",
       "      <td>1.0</td>\n",
       "      <td>2</td>\n",
       "      <td>3</td>\n",
       "      <td>0.922590</td>\n",
       "      <td>0.883575</td>\n",
       "    </tr>\n",
       "    <tr>\n",
       "      <th>2</th>\n",
       "      <td>gini</td>\n",
       "      <td>1.0</td>\n",
       "      <td>2</td>\n",
       "      <td>4</td>\n",
       "      <td>0.922590</td>\n",
       "      <td>0.883575</td>\n",
       "    </tr>\n",
       "    <tr>\n",
       "      <th>3</th>\n",
       "      <td>gini</td>\n",
       "      <td>1.0</td>\n",
       "      <td>2</td>\n",
       "      <td>5</td>\n",
       "      <td>0.922590</td>\n",
       "      <td>0.883575</td>\n",
       "    </tr>\n",
       "    <tr>\n",
       "      <th>4</th>\n",
       "      <td>gini</td>\n",
       "      <td>1.0</td>\n",
       "      <td>2</td>\n",
       "      <td>6</td>\n",
       "      <td>0.922590</td>\n",
       "      <td>0.883575</td>\n",
       "    </tr>\n",
       "    <tr>\n",
       "      <th>...</th>\n",
       "      <td>...</td>\n",
       "      <td>...</td>\n",
       "      <td>...</td>\n",
       "      <td>...</td>\n",
       "      <td>...</td>\n",
       "      <td>...</td>\n",
       "    </tr>\n",
       "    <tr>\n",
       "      <th>16895</th>\n",
       "      <td>entropy</td>\n",
       "      <td>NaN</td>\n",
       "      <td>14</td>\n",
       "      <td>10</td>\n",
       "      <td>0.959221</td>\n",
       "      <td>0.934203</td>\n",
       "    </tr>\n",
       "    <tr>\n",
       "      <th>16896</th>\n",
       "      <td>entropy</td>\n",
       "      <td>NaN</td>\n",
       "      <td>14</td>\n",
       "      <td>11</td>\n",
       "      <td>0.959221</td>\n",
       "      <td>0.936425</td>\n",
       "    </tr>\n",
       "    <tr>\n",
       "      <th>16897</th>\n",
       "      <td>entropy</td>\n",
       "      <td>NaN</td>\n",
       "      <td>14</td>\n",
       "      <td>12</td>\n",
       "      <td>0.959221</td>\n",
       "      <td>0.931981</td>\n",
       "    </tr>\n",
       "    <tr>\n",
       "      <th>16898</th>\n",
       "      <td>entropy</td>\n",
       "      <td>NaN</td>\n",
       "      <td>14</td>\n",
       "      <td>13</td>\n",
       "      <td>0.959221</td>\n",
       "      <td>0.934203</td>\n",
       "    </tr>\n",
       "    <tr>\n",
       "      <th>16899</th>\n",
       "      <td>entropy</td>\n",
       "      <td>NaN</td>\n",
       "      <td>14</td>\n",
       "      <td>14</td>\n",
       "      <td>0.959221</td>\n",
       "      <td>0.934203</td>\n",
       "    </tr>\n",
       "  </tbody>\n",
       "</table>\n",
       "<p>16900 rows × 6 columns</p>\n",
       "</div>"
      ],
      "text/plain": [
       "      criterion  max_depth  min_samples_leaf  min_samples_split  \\\n",
       "0          gini        1.0                 2                  2   \n",
       "1          gini        1.0                 2                  3   \n",
       "2          gini        1.0                 2                  4   \n",
       "3          gini        1.0                 2                  5   \n",
       "4          gini        1.0                 2                  6   \n",
       "...         ...        ...               ...                ...   \n",
       "16895   entropy        NaN                14                 10   \n",
       "16896   entropy        NaN                14                 11   \n",
       "16897   entropy        NaN                14                 12   \n",
       "16898   entropy        NaN                14                 13   \n",
       "16899   entropy        NaN                14                 14   \n",
       "\n",
       "       Train Accuracy  Val Accuracy  \n",
       "0            0.922590      0.883575  \n",
       "1            0.922590      0.883575  \n",
       "2            0.922590      0.883575  \n",
       "3            0.922590      0.883575  \n",
       "4            0.922590      0.883575  \n",
       "...               ...           ...  \n",
       "16895        0.959221      0.934203  \n",
       "16896        0.959221      0.936425  \n",
       "16897        0.959221      0.931981  \n",
       "16898        0.959221      0.934203  \n",
       "16899        0.959221      0.934203  \n",
       "\n",
       "[16900 rows x 6 columns]"
      ]
     },
     "execution_count": 248,
     "metadata": {},
     "output_type": "execute_result"
    }
   ],
   "source": [
    "model_df"
   ]
  },
  {
   "cell_type": "code",
   "execution_count": 249,
   "metadata": {},
   "outputs": [
    {
     "data": {
      "text/html": [
       "<div>\n",
       "<style scoped>\n",
       "    .dataframe tbody tr th:only-of-type {\n",
       "        vertical-align: middle;\n",
       "    }\n",
       "\n",
       "    .dataframe tbody tr th {\n",
       "        vertical-align: top;\n",
       "    }\n",
       "\n",
       "    .dataframe thead th {\n",
       "        text-align: right;\n",
       "    }\n",
       "</style>\n",
       "<table border=\"1\" class=\"dataframe\">\n",
       "  <thead>\n",
       "    <tr style=\"text-align: right;\">\n",
       "      <th></th>\n",
       "      <th>criterion</th>\n",
       "      <th>max_depth</th>\n",
       "      <th>min_samples_leaf</th>\n",
       "      <th>min_samples_split</th>\n",
       "      <th>Train Accuracy</th>\n",
       "      <th>Val Accuracy</th>\n",
       "    </tr>\n",
       "  </thead>\n",
       "  <tbody>\n",
       "    <tr>\n",
       "      <th>3888</th>\n",
       "      <td>gini</td>\n",
       "      <td>24.0</td>\n",
       "      <td>2</td>\n",
       "      <td>3</td>\n",
       "      <td>0.989988</td>\n",
       "      <td>0.951787</td>\n",
       "    </tr>\n",
       "  </tbody>\n",
       "</table>\n",
       "</div>"
      ],
      "text/plain": [
       "     criterion  max_depth  min_samples_leaf  min_samples_split  \\\n",
       "3888      gini       24.0                 2                  3   \n",
       "\n",
       "      Train Accuracy  Val Accuracy  \n",
       "3888        0.989988      0.951787  "
      ]
     },
     "execution_count": 249,
     "metadata": {},
     "output_type": "execute_result"
    }
   ],
   "source": [
    "model_df.loc[[model_random.best_index_]]"
   ]
  },
  {
   "cell_type": "code",
   "execution_count": 266,
   "metadata": {},
   "outputs": [
    {
     "name": "stdout",
     "output_type": "stream",
     "text": [
      "Best Model Parameters: {'criterion': 'gini', 'max_depth': 24, 'min_samples_leaf': 2, 'min_samples_split': 3}\n",
      "Train Mean Accuracy: 0.9899880732303655\n",
      "Validation Mean Accuracy: 0.9517874396135266\n",
      "Test Accuracy: 0.956140350877193\n"
     ]
    }
   ],
   "source": [
    "# Print the best parameters and the corresponding accuracy\n",
    "print(\"Best Model Parameters:\", model_random.best_params_)\n",
    "print(\"Train Mean Accuracy:\", model_random.cv_results_['mean_train_score'][model_random.best_index_])\n",
    "print(\"Validation Mean Accuracy:\", model_random.best_score_)\n",
    "# Evaluate the best model on the test data\n",
    "test_accuracy = model_random.score(X_test,y_test)\n",
    "print(\"Test Accuracy:\", test_accuracy)"
   ]
  }
 ],
 "metadata": {
  "kernelspec": {
   "display_name": "Python 3",
   "language": "python",
   "name": "python3"
  },
  "language_info": {
   "codemirror_mode": {
    "name": "ipython",
    "version": 3
   },
   "file_extension": ".py",
   "mimetype": "text/x-python",
   "name": "python",
   "nbconvert_exporter": "python",
   "pygments_lexer": "ipython3",
   "version": "3.12.3"
  }
 },
 "nbformat": 4,
 "nbformat_minor": 2
}
